{
 "cells": [
  {
   "cell_type": "code",
   "execution_count": 1,
   "id": "4137ae10-697b-47fb-9bc9-709fe633b70c",
   "metadata": {},
   "outputs": [
    {
     "name": "stdout",
     "output_type": "stream",
     "text": [
      "Requirement already satisfied: webvtt-py in /home/rog/Documents/ai_code/complete_ai/env_ai/lib/python3.11/site-packages (0.5.1)\n",
      "Requirement already satisfied: googletrans in /home/rog/Documents/ai_code/complete_ai/env_ai/lib/python3.11/site-packages (3.1.0a0)\n",
      "Requirement already satisfied: httpx==0.13.3 in /home/rog/Documents/ai_code/complete_ai/env_ai/lib/python3.11/site-packages (from googletrans) (0.13.3)\n",
      "Requirement already satisfied: certifi in /home/rog/Documents/ai_code/complete_ai/env_ai/lib/python3.11/site-packages (from httpx==0.13.3->googletrans) (2024.12.14)\n",
      "Requirement already satisfied: hstspreload in /home/rog/Documents/ai_code/complete_ai/env_ai/lib/python3.11/site-packages (from httpx==0.13.3->googletrans) (2025.1.1)\n",
      "Requirement already satisfied: sniffio in /home/rog/Documents/ai_code/complete_ai/env_ai/lib/python3.11/site-packages (from httpx==0.13.3->googletrans) (1.3.1)\n",
      "Requirement already satisfied: chardet==3.* in /home/rog/Documents/ai_code/complete_ai/env_ai/lib/python3.11/site-packages (from httpx==0.13.3->googletrans) (3.0.4)\n",
      "Requirement already satisfied: idna==2.* in /home/rog/Documents/ai_code/complete_ai/env_ai/lib/python3.11/site-packages (from httpx==0.13.3->googletrans) (2.10)\n",
      "Requirement already satisfied: rfc3986<2,>=1.3 in /home/rog/Documents/ai_code/complete_ai/env_ai/lib/python3.11/site-packages (from httpx==0.13.3->googletrans) (1.5.0)\n",
      "Requirement already satisfied: httpcore==0.9.* in /home/rog/Documents/ai_code/complete_ai/env_ai/lib/python3.11/site-packages (from httpx==0.13.3->googletrans) (0.9.1)\n",
      "Requirement already satisfied: h11<0.10,>=0.8 in /home/rog/Documents/ai_code/complete_ai/env_ai/lib/python3.11/site-packages (from httpcore==0.9.*->httpx==0.13.3->googletrans) (0.9.0)\n",
      "Requirement already satisfied: h2==3.* in /home/rog/Documents/ai_code/complete_ai/env_ai/lib/python3.11/site-packages (from httpcore==0.9.*->httpx==0.13.3->googletrans) (3.2.0)\n",
      "Requirement already satisfied: hyperframe<6,>=5.2.0 in /home/rog/Documents/ai_code/complete_ai/env_ai/lib/python3.11/site-packages (from h2==3.*->httpcore==0.9.*->httpx==0.13.3->googletrans) (5.2.0)\n",
      "Requirement already satisfied: hpack<4,>=3.0 in /home/rog/Documents/ai_code/complete_ai/env_ai/lib/python3.11/site-packages (from h2==3.*->httpcore==0.9.*->httpx==0.13.3->googletrans) (3.0.0)\n"
     ]
    }
   ],
   "source": [
    "!pip install webvtt-py\n",
    "!pip install googletrans"
   ]
  },
  {
   "cell_type": "code",
   "execution_count": 2,
   "id": "bcb40032-4479-41d5-989c-70c83cdebcda",
   "metadata": {},
   "outputs": [],
   "source": [
    "import webvtt\n",
    "from googletrans import Translator\n",
    "import glob"
   ]
  },
  {
   "cell_type": "markdown",
   "id": "6f235f6c-6064-4e82-9487-f7dfb2ffa48b",
   "metadata": {},
   "source": [
    "___"
   ]
  },
  {
   "cell_type": "code",
   "execution_count": 3,
   "id": "d2f4bfeb-0948-4c16-b729-72a6e24a8c69",
   "metadata": {},
   "outputs": [],
   "source": [
    "import webvtt\n",
    "from googletrans import Translator\n",
    "import os\n",
    "\n",
    "def translate_and_save_vtt(file_path, output_dir='translate_subtitle', dest_language='fa'):\n",
    "    \"\"\"\n",
    "    Reads a VTT file, translates its content, and saves it to a new file.\n",
    "\n",
    "    Args:\n",
    "        file_path (str): The path to the source VTT subtitle file.\n",
    "        output_dir (str): The directory to save the translated file in.\n",
    "        dest_language (str): The destination language (e.g., 'fa' for Persian).\n",
    "    \"\"\"\n",
    "    # --- 1. Validate Input and Prepare Output Path ---\n",
    "    if not os.path.exists(file_path):\n",
    "        print(f\"SKIPPING: Source file not found at '{file_path}'\")\n",
    "        return\n",
    "\n",
    "    # Create the output directory if it doesn't exist\n",
    "    os.makedirs(output_dir, exist_ok=True)\n",
    "    \n",
    "    # Get the base name of the input file to create a new name\n",
    "    base_name = os.path.basename(file_path)\n",
    "    new_file_name = base_name.replace('.vtt', '_fa.vtt')\n",
    "    new_file_name = new_file_name.replace(\"original_subtitle\", \"translate_subtitle\")\n",
    "    output_path = os.path.join(output_dir, new_file_name)\n",
    "\n",
    "    # --- 2. Translate the File ---\n",
    "    print(f\"Translating '{file_path}'.\")\n",
    "    translator = Translator()\n",
    "    try:\n",
    "        # Read the entire VTT file into a vtt object\n",
    "        vtt = webvtt.read(file_path)\n",
    "\n",
    "        # Loop through each caption and translate its text\n",
    "        for caption in vtt:\n",
    "            if caption.text.strip():  # Only translate if there's text\n",
    "                translated_text = translator.translate(caption.text, dest=dest_language).text\n",
    "                caption.text = translated_text\n",
    "        \n",
    "        # --- 3. Save the Translated File Correctly ---\n",
    "        vtt.save(output_path)\n",
    "        print(f\"SUCCESS: Saved translated file to '{output_path}'\")\n",
    "\n",
    "    except Exception as e:\n",
    "        print(f\"ERROR: Failed to process {file_path}. Reason: {e}\")"
   ]
  },
  {
   "cell_type": "markdown",
   "id": "abf0586d-a890-4426-9907-ee24b3b4b330",
   "metadata": {},
   "source": [
    "___"
   ]
  },
  {
   "cell_type": "markdown",
   "id": "45730580-e8fe-4f88-8036-e3e54c480f5c",
   "metadata": {},
   "source": [
    "### --- HOW TO USE ---"
   ]
  },
  {
   "cell_type": "code",
   "execution_count": 4,
   "id": "69754db7-1909-4e14-b7fc-4e8bc58381d8",
   "metadata": {},
   "outputs": [
    {
     "data": {
      "text/plain": [
       "['original_subtitle/4. Feature Scaling in Machine Learning Normalization vs Standardization Explained.vtt',\n",
       " 'original_subtitle/2. Machine Learning Workflow Importing, Modeling, and Evaluating Your ML Model.vtt',\n",
       " 'original_subtitle/3. Data Preprocessing Importance of Training-Test Split in ML Model Evaluation.vtt']"
      ]
     },
     "execution_count": 4,
     "metadata": {},
     "output_type": "execute_result"
    }
   ],
   "source": [
    "# 1. Define the list of files you want to translate\n",
    "\n",
    "# Specify the directory path and pattern for .srt files\n",
    "directory_path = 'original_subtitle/*.vtt'\n",
    "\n",
    "# Find all .srt files\n",
    "files_to_translate = glob.glob(directory_path)\n",
    "files_to_translate"
   ]
  },
  {
   "cell_type": "code",
   "execution_count": 5,
   "id": "b4bea3a8-e5f8-47b3-979e-d29a92f2dd87",
   "metadata": {},
   "outputs": [
    {
     "name": "stdout",
     "output_type": "stream",
     "text": [
      "Translating 'original_subtitle/4. Feature Scaling in Machine Learning Normalization vs Standardization Explained.vtt'.\n",
      "SUCCESS: Saved translated file to 'translate_subtitle/4. Feature Scaling in Machine Learning Normalization vs Standardization Explained_fa.vtt'\n",
      "--------------------\n",
      "Translating 'original_subtitle/2. Machine Learning Workflow Importing, Modeling, and Evaluating Your ML Model.vtt'.\n",
      "SUCCESS: Saved translated file to 'translate_subtitle/2. Machine Learning Workflow Importing, Modeling, and Evaluating Your ML Model_fa.vtt'\n",
      "--------------------\n",
      "Translating 'original_subtitle/3. Data Preprocessing Importance of Training-Test Split in ML Model Evaluation.vtt'.\n",
      "SUCCESS: Saved translated file to 'translate_subtitle/3. Data Preprocessing Importance of Training-Test Split in ML Model Evaluation_fa.vtt'\n",
      "--------------------\n"
     ]
    }
   ],
   "source": [
    "# 2. Loop through the list and translate each file\n",
    "for file in files_to_translate:\n",
    "    translate_and_save_vtt(file)\n",
    "    print(\"-\" * 20) # Separator for clarity"
   ]
  }
 ],
 "metadata": {
  "kernelspec": {
   "display_name": "Python 3 (ipykernel)",
   "language": "python",
   "name": "python3"
  },
  "language_info": {
   "codemirror_mode": {
    "name": "ipython",
    "version": 3
   },
   "file_extension": ".py",
   "mimetype": "text/x-python",
   "name": "python",
   "nbconvert_exporter": "python",
   "pygments_lexer": "ipython3",
   "version": "3.11.2"
  }
 },
 "nbformat": 4,
 "nbformat_minor": 5
}
