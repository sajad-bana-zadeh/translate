{
 "cells": [
  {
   "cell_type": "code",
   "execution_count": 1,
   "id": "9e69907b-68d3-4222-9ef2-8c2b4f5051f2",
   "metadata": {},
   "outputs": [],
   "source": [
    "from deep_translator import GoogleTranslator\n",
    "import re\n",
    "import glob"
   ]
  },
  {
   "cell_type": "code",
   "execution_count": 2,
   "id": "df816eb8-d7d7-4ee3-8438-b184e98baba6",
   "metadata": {},
   "outputs": [],
   "source": [
    "# load file\n",
    "def load_file(path_file):\n",
    "    with open(path_file, 'r') as lines:\n",
    "        content = lines.readlines()\n",
    "    return content\n"
   ]
  },
  {
   "cell_type": "code",
   "execution_count": 3,
   "id": "230b936f-fa0a-4242-aba2-a88a7041a686",
   "metadata": {},
   "outputs": [],
   "source": [
    "def convert_str(content):\n",
    "    translator = GoogleTranslator(source='en', target='fa')\n",
    "    len_content = len(content)\n",
    "    for index, item in enumerate(content):\n",
    "        if re.match(r'^\\d+\\n$', item):\n",
    "            for i in range(2,10):\n",
    "                if (index+i) >= len_content or re.match(r'\\n$', content[index+i]) :\n",
    "                    break     \n",
    "                result = str(translator.translate(content[index+i]))\n",
    "                content[index+i] = result + '\\n'\n",
    "    return content\n"
   ]
  },
  {
   "cell_type": "code",
   "execution_count": 4,
   "id": "ef775d77-a1a4-49b5-9f51-1bb5a64997f6",
   "metadata": {},
   "outputs": [],
   "source": [
    "# save file\n",
    "def save_file(file_name_new, content):\n",
    "    with open(file_name_new, 'w') as file:\n",
    "        for line in content:\n",
    "            # Write the string followed by a newline character\n",
    "            file.write(line)\n",
    "    print(f'file {file_name_new} is translate ,ok')"
   ]
  },
  {
   "cell_type": "code",
   "execution_count": 5,
   "id": "b74bb68c-e0e7-4feb-afd3-e4dfffc6e366",
   "metadata": {},
   "outputs": [],
   "source": [
    "# Specify the directory path and pattern for .srt files\n",
    "directory_path = 'original_subtitle/*.vtt'\n",
    "\n",
    "# Find all .srt files\n",
    "srt_files = glob.glob(directory_path)\n",
    "\n",
    "# Print the found .srt files\n",
    "for file_name in srt_files:\n",
    "    print(file_name)\n",
    "    content = load_file(file_name)\n",
    "    content_fa = convert_str(content)\n",
    "    file_name_new = file_name.replace(\".srt\", \"_fa.srt\")\n",
    "    file_name_new = file_name_new.replace(\"original_subtitle\", \"translate_subtitle\")\n",
    "    save_file(file_name_new, content_fa)"
   ]
  }
 ],
 "metadata": {
  "kernelspec": {
   "display_name": "Python 3 (ipykernel)",
   "language": "python",
   "name": "python3"
  },
  "language_info": {
   "codemirror_mode": {
    "name": "ipython",
    "version": 3
   },
   "file_extension": ".py",
   "mimetype": "text/x-python",
   "name": "python",
   "nbconvert_exporter": "python",
   "pygments_lexer": "ipython3",
   "version": "3.11.2"
  }
 },
 "nbformat": 4,
 "nbformat_minor": 5
}
